{
 "cells": [
  {
   "cell_type": "markdown",
   "metadata": {},
   "source": [
    "# Data collection for *C. gigas* metaanalysis\n",
    "\n",
    "In this notebook, I'll demonstrate how I collected the data I'm using for a metaanalysis of all *C. gigas* DNA methylation studies. I did this in four steps:\n",
    "\n",
    "1. Understand previously downloaded SRA data\n",
    "2. Sort through the SRA database for other data sources\n",
    "3. Consolidate Roberts Lab data\n",
    "4. Sift through other publications\n",
    "5. Summarize data collected\n",
    "6. Download all data"
   ]
  },
  {
   "cell_type": "markdown",
   "metadata": {},
   "source": [
    "## The SRA database"
   ]
  },
  {
   "cell_type": "markdown",
   "metadata": {},
   "source": [
    "The [NCBI Sequence Read Archive (SRA)](https://www.ncbi.nlm.nih.gov/sra/) hosts several DNA and RNA datasets. Researchers can upload high-throughput raw-sequence data for others to use in reproducibility studies or metaanalyses. Runs can are searchable and identified by an accession code.\n",
    "\n",
    "From each accession code, I will gather the following metadata:\n",
    "\n",
    "- Project code\n",
    "- SRA study\n",
    "- Experiment code\n",
    "- Design\n",
    "- Sample type\n",
    "- Library information (Name, Platform, Strategy, Source, Selection, Layout)\n",
    "- Run code\n",
    "- Run information (Spots, Bases, Size, GC Content)\n",
    "- Submitted by\n",
    "- Date published\n",
    "- Relevant papers"
   ]
  },
  {
   "cell_type": "markdown",
   "metadata": {},
   "source": [
    "## Step 1: Understand previously downloaded SRA data"
   ]
  },
  {
   "cell_type": "markdown",
   "metadata": {},
   "source": [
    "Sean and Grace searched for *C. gigas* methylation data in the SRA database. Their methods can be found [here](http://rpubs.com/seanb80/267942).\n",
    "\n",
    "Using various search terms (“C gigas bisulfite” “C gigas methylation” “C gigas bis-seq” and “C gigas bisseq” and “C gigas bis seq”), they settled on a handful of SRA accession codes (\"SRR5085013\", \"SRR5085014\", \"SRR5085015\", \"SRR5085016\", \"SRR5085017\", \"SRR5085018\", \"SRR546473\", \"SRR546474\", \"SRR546472\", \"SRR546471\").\n",
    "\n",
    "The script was meant to download data from each accession code as a separate .fastq file into [this folder](http://eagle.fish.washington.edu/scaphapoda/index.php?dir=Grace%2FSRA+Data+-+C.+gigas+methylation%2F), which is hosted on Eagle. However, only one accession number, SRR5085013, was downloaded. I will work on downloading the rest in Step 5.\n",
    "\n",
    "The data they found are from two projects:\n",
    "\n",
    "1. \"Crassostrea gigas Transcriptome or Gene expression\" (\"SRR5085013\", \"SRR5085014\", \"SRR5085015\", \"SRR5085016\", \"SRR5085017\", \"SRR5085018\")\n",
    "2. \"Genome-wide and single-base resolution DNA methylomes of the Pacific oyster Crassostrea gigas provide insight into the evolution of invertebrate CpG methylation\" (\"SRR546473\", \"SRR546474\", \"SRR546472\", \"SRR546471\"). The data from this project was published in a paper of the same name by Wang et al. 2014."
   ]
  },
  {
   "cell_type": "markdown",
   "metadata": {},
   "source": [
    "## Step 2: Sort through database for other data sources\n",
    "\n",
    "I will now conduct my own searches in the SRA database to see if there are additional data sources for my metaanalysis. I searched the following keywords, using the \"DNA\" filter each time. Unique project links were noted for each search. I collected metadata for each run.\n",
    "\n",
    "- \"oyster methylation\", filter: *C. gigas*: [Crassostrea gigas gonad bisulfite sequencing](https://trace.ncbi.nlm.nih.gov/Traces/study/?acc=SRP028178)\n",
    "- \"oyster medip\": [Crassostrea gigas developmental genome-wide methylome dynamics\n",
    "](https://trace.ncbi.nlm.nih.gov/Traces/study/?acc=SRP076169)\n",
    "- \"oyster bisulfite\": No unique SRA projects\n",
    "- \"oyster bis-seq\": No unique SRA projects\n",
    "- \"oyster bisseq\": No unique SRA projects\n",
    "- \"c gigas medip\": No unique SRA projects"
   ]
  },
  {
   "cell_type": "markdown",
   "metadata": {},
   "source": [
    "## Step 3: Consolidate Roberts Lab data\n",
    "\n",
    "Again, I will search the SRA database for data from our lab that I did not find in in my Step 2 searches. The search terms \"university of washington c gigas\" and \"university of washingotn oyster\" produced no unique SRA projects."
   ]
  },
  {
   "cell_type": "markdown",
   "metadata": {},
   "source": [
    "## Step 4: Sift through other data sources"
   ]
  },
  {
   "cell_type": "markdown",
   "metadata": {},
   "source": [
    "I could find no other data sources that were not already included by the SRA database searches."
   ]
  },
  {
   "cell_type": "markdown",
   "metadata": {},
   "source": [
    "## Step 5: Summarize data collected"
   ]
  },
  {
   "cell_type": "markdown",
   "metadata": {},
   "source": [
    "I organized all of the metadata I could find on the SRA database into [this table](https://github.com/RobertsLab/paper-gigas-metaanalysis/blob/master/data/metaanalysis-data-sources.xlsx). I am missing some experimental design specifications, mainly for Mac's experiments. I can get that from her paper later."
   ]
  },
  {
   "cell_type": "code",
   "execution_count": null,
   "metadata": {
    "collapsed": true
   },
   "outputs": [],
   "source": []
  }
 ],
 "metadata": {
  "anaconda-cloud": {},
  "kernelspec": {
   "display_name": "Python [default]",
   "language": "python",
   "name": "python3"
  },
  "language_info": {
   "codemirror_mode": {
    "name": "ipython",
    "version": 3
   },
   "file_extension": ".py",
   "mimetype": "text/x-python",
   "name": "python",
   "nbconvert_exporter": "python",
   "pygments_lexer": "ipython3",
   "version": "3.5.2"
  }
 },
 "nbformat": 4,
 "nbformat_minor": 1
}
