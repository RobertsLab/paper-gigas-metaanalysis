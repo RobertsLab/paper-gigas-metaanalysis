{
 "cells": [
  {
   "cell_type": "markdown",
   "metadata": {},
   "source": [
    "# Downloading SRA Data\n",
    "\n",
    "Now that I've [identified data on SRA](https://github.com/RobertsLab/paper-gigas-metaanalysis/blob/master/notebooks/2017-04-18-Data-collection.ipynb), I will download the files. There are a few steps to this process.\n",
    "\n",
    "1. Isolate all SRA run codes\n",
    "2. Install"
   ]
  }
 ],
 "metadata": {
  "anaconda-cloud": {},
  "kernelspec": {
   "display_name": "Python [default]",
   "language": "python",
   "name": "python3"
  },
  "language_info": {
   "codemirror_mode": {
    "name": "ipython",
    "version": 3
   },
   "file_extension": ".py",
   "mimetype": "text/x-python",
   "name": "python",
   "nbconvert_exporter": "python",
   "pygments_lexer": "ipython3",
   "version": "3.5.2"
  }
 },
 "nbformat": 4,
 "nbformat_minor": 1
}
