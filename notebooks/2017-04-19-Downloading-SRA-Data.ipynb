{
 "cells": [
  {
   "cell_type": "markdown",
   "metadata": {},
   "source": [
    "# Downloading SRA Data\n",
    "\n",
    "Now that I've [identified data on SRA](https://github.com/RobertsLab/paper-gigas-metaanalysis/blob/master/notebooks/2017-04-18-Data-collection.ipynb), I will download the files. There are a few steps to this process.\n",
    "\n",
    "1. Isolate all SRA run codes\n",
    "2. Install `samtools`\n",
    "3. Download data from SRA database\n",
    "4. Upload data into [OWL](owl.fish.washington.edu)"
   ]
  },
  {
   "cell_type": "markdown",
   "metadata": {},
   "source": [
    "## Step 1: Isolate all SRA run codes"
   ]
  },
  {
   "cell_type": "markdown",
   "metadata": {},
   "source": [
    "I copied and pasted all of the [SRA run codes I compiled](https://github.com/RobertsLab/paper-gigas-metaanalysis/blob/master/data/metaanalysis-data-sources.xlsx) below. I left out those [previously downloaded by Sean and Grace](http://rpubs.com/seanb80/267942): \n",
    "\n",
    "SRR1693528\n",
    "SRR1693531\n",
    "SRR1693532\n",
    "SRR1693534\n",
    "SRR1693537\n",
    "SRR1693538\n",
    "SRR1696820\n",
    "SRR1696826\n",
    "SRR1696827\n",
    "SRR942533\n",
    "SRR1696867\n",
    "SRR1697248\n",
    "SRR1696868\n",
    "SRR1045858\n",
    "SRR3742302\n",
    "SRR3742311\n",
    "SRR3742313\n",
    "SRR3742315\n",
    "SRR3742316\n",
    "SRR3742317\n",
    "SRR3742318\n",
    "SRR3742319\n",
    "SRR3742320\n",
    "SRR3742321\n",
    "SRR3742322\n",
    "SRR3742323\n",
    "SRR3742324\n",
    "SRR3742325\n",
    "SRR3742326\n",
    "SRR3742327\n",
    "SRR3742344\n",
    "SRR3742345\n",
    "SRR3742346\n",
    "SRR3742347\n",
    "SRR3742348"
   ]
  },
  {
   "cell_type": "markdown",
   "metadata": {},
   "source": [
    "I reformatted the codes so I can use it in a R command:\n",
    "\n",
    "\"SRR1693528\", \"SRR1693531\", \"SRR1693532\", \"SRR1693534\", \"SRR1693537\", \"SRR1693538\", \"SRR1696820\", \"SRR1696826\", \"SRR1696827\", \"SRR942533\", \"SRR1696867\", \"SRR1697248\", \"SRR1696868\", \"SRR1045858\", \"SRR3742302\", \"SRR3742311\", \"SRR3742313\", \"SRR3742315\", \"SRR3742316\", \"SRR3742317\", \"SRR3742318\", \"SRR3742319\", \"SRR3742320\", \"SRR3742321\", \"SRR3742322\", \"SRR3742323\", \"SRR3742324\", \"SRR3742325\", \"SRR3742326\", \"SRR3742327\", \"SRR3742344\", \"SRR3742345\", \"SRR3742346\", \"SRR3742347\", \"SRR3742348\""
   ]
  },
  {
   "cell_type": "markdown",
   "metadata": {},
   "source": [
    "## Step 2: Install `samtools`"
   ]
  },
  {
   "cell_type": "markdown",
   "metadata": {},
   "source": [
    "`samtools` is part of the [NCBI SRA toolkit](https://trace.ncbi.nlm.nih.gov/Traces/sra/sra.cgi?view=software). I downloaded the MacOS 64 bit architecture (Compiled binaries of March 14, 2017, version 2.8.2-1 release)."
   ]
  },
  {
   "cell_type": "markdown",
   "metadata": {},
   "source": [
    "![1-samtools](https://cloud.githubusercontent.com/assets/22335838/25198158/78a42bf4-24fb-11e7-94e0-7c9b41f7f000.png)"
   ]
  },
  {
   "cell_type": "markdown",
   "metadata": {},
   "source": [
    "## Step 3: Download data from SRA database"
   ]
  },
  {
   "cell_type": "markdown",
   "metadata": {},
   "source": [
    "This step will be done in R. The script is [here](https://github.com/RobertsLab/paper-gigas-metaanalysis/blob/master/scripts/2017-19-04-Downloading-SRA-Data.R), and the R code is below."
   ]
  },
  {
   "cell_type": "markdown",
   "metadata": {},
   "source": [
    "```\n",
    "SRA.list <- c(\"SRR1693528\", \"SRR1693531\", \"SRR1693532\", \"SRR1693534\", \"SRR1693537\", \"SRR1693538\", \"SRR1696820\", \"SRR1696826\", \"SRR1696827\", \"SRR942533\", \"SRR1696867\", \"SRR1697248\", \"SRR1696868\", \"SRR1045858\", \"SRR3742302\", \"SRR3742311\", \"SRR3742313\", \"SRR3742315\", \"SRR3742316\", \"SRR3742317\", \"SRR3742318\", \"SRR3742319\", \"SRR3742320\", \"SRR3742321\", \"SRR3742322\", \"SRR3742323\", \"SRR3742324\", \"SRR3742325\", \"SRR3742326\", \"SRR3742327\", \"SRR3742344\", \"SRR3742345\", \"SRR3742346\", \"SRR3742347\", \"SRR3742348\") #Make a list of all SRA run codes for data I want to download\n",
    "\n",
    "setwd(\"\") #Set working directory to a folder where you can download data\n",
    "\n",
    "for(i in 1:length(SRA.list)) #Create a for loop so each SRA run specified in \"SRA.list\" is downloaded as a .fastq file and zipped. \n",
    "{\n",
    "  \n",
    "  system(paste0(\"/Users/Shared/Apps/sratoolkit.2.8.2-1-mac64/bin/fastq-dump \", SRA.list[i]))\n",
    "  system(paste0(\"tar czf \", SRA.list[i], \".fastq.tar.gz \", SRA.list[i], \".fastq\"))\n",
    "  system(paste0(\"rm \", SRA.list[i], \".fastq\"))\n",
    "  \n",
    "}\n",
    "```"
   ]
  },
  {
   "cell_type": "markdown",
   "metadata": {},
   "source": [
    "The data is downloading on emu, and Sean is moving files to [his directory](http://owl.fish.washington.edu/scaphapoda/Sean/SRA_Downloads/)."
   ]
  },
  {
   "cell_type": "code",
   "execution_count": null,
   "metadata": {
    "collapsed": true
   },
   "outputs": [],
   "source": []
  }
 ],
 "metadata": {
  "anaconda-cloud": {},
  "kernelspec": {
   "display_name": "Python [default]",
   "language": "python",
   "name": "python3"
  },
  "language_info": {
   "codemirror_mode": {
    "name": "ipython",
    "version": 3
   },
   "file_extension": ".py",
   "mimetype": "text/x-python",
   "name": "python",
   "nbconvert_exporter": "python",
   "pygments_lexer": "ipython3",
   "version": "3.5.2"
  }
 },
 "nbformat": 4,
 "nbformat_minor": 1
}
